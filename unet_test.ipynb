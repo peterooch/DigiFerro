{
 "cells": [
  {
   "cell_type": "code",
   "execution_count": 1,
   "metadata": {},
   "outputs": [],
   "source": [
    "import unet\n",
    "import cv2\n",
    "import tensorflow as tf\n",
    "from tensorflow.keras import losses, metrics"
   ]
  },
  {
   "cell_type": "code",
   "execution_count": 2,
   "metadata": {},
   "outputs": [],
   "source": [
    "def normalize(input_image):\n",
    "    input_image = tf.cast(cv2.cvtColor(input_image, cv2.COLOR_BGR2RGB), tf.float32) / 255.0\n",
    "    #input_mask -= 1\n",
    "    return input_image"
   ]
  },
  {
   "cell_type": "code",
   "execution_count": 3,
   "metadata": {},
   "outputs": [],
   "source": [
    "LEARNING_RATE = 1e-3\n",
    "unet_model = unet.build_model(512, 512,\n",
    "                              channels=3,\n",
    "                              num_classes=3,\n",
    "                              layer_depth=5,\n",
    "                              filters_root=64,\n",
    "                              padding=\"same\"\n",
    "                              )\n",
    "\n",
    "unet.finalize_model(unet_model,\n",
    "                    loss=losses.SparseCategoricalCrossentropy(from_logits=False),\n",
    "                    metrics=[metrics.SparseCategoricalAccuracy()],\n",
    "                    auc=False,\n",
    "                    learning_rate=LEARNING_RATE)"
   ]
  },
  {
   "cell_type": "code",
   "execution_count": 4,
   "metadata": {},
   "outputs": [],
   "source": [
    "from joblib import load\n",
    "\n",
    "data = load('data/data.pkl')\n",
    "\n",
    "images, masks = data\n",
    "images = [normalize(image) for image in images]\n",
    "masks = [tf.reshape(tf.cast(mask, tf.float32), (512,512,1)) for mask in masks]\n",
    "dataset = tf.data.Dataset.from_tensor_slices((images, masks))"
   ]
  },
  {
   "cell_type": "code",
   "execution_count": 5,
   "metadata": {},
   "outputs": [],
   "source": [
    "#%load_ext tensorboard"
   ]
  },
  {
   "cell_type": "code",
   "execution_count": 6,
   "metadata": {},
   "outputs": [
    {
     "name": "stdout",
     "output_type": "stream",
     "text": [
      " 33/344 [=>............................] - ETA: 53:03 - loss: 0.4251 - sparse_categorical_accuracy: 0.9669 - mean_iou: 0.0120 - dice_coefficient: 0.0438"
     ]
    }
   ],
   "source": [
    "trainer = unet.Trainer('unet_test')\n",
    "\n",
    "trainer.fit(unet_model, dataset, epochs=1, batch_size=1)"
   ]
  }
 ],
 "metadata": {
  "interpreter": {
   "hash": "5eb2e0c23f8e38f19a3cfe8ad2d7bbb895a86b1e106b247f2b169180d03d2047"
  },
  "kernelspec": {
   "display_name": "Python 3.9.7 ('base')",
   "language": "python",
   "name": "python3"
  },
  "language_info": {
   "codemirror_mode": {
    "name": "ipython",
    "version": 3
   },
   "file_extension": ".py",
   "mimetype": "text/x-python",
   "name": "python",
   "nbconvert_exporter": "python",
   "pygments_lexer": "ipython3",
   "version": "3.9.7"
  },
  "orig_nbformat": 4
 },
 "nbformat": 4,
 "nbformat_minor": 2
}
